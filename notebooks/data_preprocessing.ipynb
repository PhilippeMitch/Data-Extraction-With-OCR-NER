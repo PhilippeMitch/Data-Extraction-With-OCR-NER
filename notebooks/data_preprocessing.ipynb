{
 "cells": [
  {
   "cell_type": "code",
   "execution_count": 23,
   "id": "ef4c64cd-7f26-4722-8f88-c4b1b9eb2137",
   "metadata": {},
   "outputs": [],
   "source": [
    "import string\n",
    "import random\n",
    "import pickle\n",
    "import pandas as pd"
   ]
  },
  {
   "cell_type": "code",
   "execution_count": 24,
   "id": "45fffe5d-30b4-410d-9e2b-686ab4a49e20",
   "metadata": {},
   "outputs": [],
   "source": [
    "# Load  the tsv file\n",
    "with open('../data/tsv/boarding_pass.v1.tsv',mode='r',encoding='utf8',errors='ignore') as f:\n",
    "    text = f.read()"
   ]
  },
  {
   "cell_type": "code",
   "execution_count": 25,
   "id": "e3ce78ec-8515-40ea-99b3-5038fb4a22dd",
   "metadata": {},
   "outputs": [
    {
     "data": {
      "text/html": [
       "<div>\n",
       "<style scoped>\n",
       "    .dataframe tbody tr th:only-of-type {\n",
       "        vertical-align: middle;\n",
       "    }\n",
       "\n",
       "    .dataframe tbody tr th {\n",
       "        vertical-align: top;\n",
       "    }\n",
       "\n",
       "    .dataframe thead th {\n",
       "        text-align: right;\n",
       "    }\n",
       "</style>\n",
       "<table border=\"1\" class=\"dataframe\">\n",
       "  <thead>\n",
       "    <tr style=\"text-align: right;\">\n",
       "      <th></th>\n",
       "      <th>id</th>\n",
       "      <th>text</th>\n",
       "      <th>tag</th>\n",
       "    </tr>\n",
       "  </thead>\n",
       "  <tbody>\n",
       "    <tr>\n",
       "      <th>0</th>\n",
       "      <td>boarding_pass-1.png</td>\n",
       "      <td>ETK-305A6746F</td>\n",
       "      <td>B-TNUMBER</td>\n",
       "    </tr>\n",
       "    <tr>\n",
       "      <th>1</th>\n",
       "      <td>boarding_pass-1.png</td>\n",
       "      <td>Passenger</td>\n",
       "      <td>O</td>\n",
       "    </tr>\n",
       "    <tr>\n",
       "      <th>2</th>\n",
       "      <td>boarding_pass-1.png</td>\n",
       "      <td>Name</td>\n",
       "      <td>O</td>\n",
       "    </tr>\n",
       "    <tr>\n",
       "      <th>3</th>\n",
       "      <td>boarding_pass-1.png</td>\n",
       "      <td>Carrier</td>\n",
       "      <td>O</td>\n",
       "    </tr>\n",
       "    <tr>\n",
       "      <th>4</th>\n",
       "      <td>boarding_pass-1.png</td>\n",
       "      <td>Flight</td>\n",
       "      <td>O</td>\n",
       "    </tr>\n",
       "    <tr>\n",
       "      <th>5</th>\n",
       "      <td>boarding_pass-1.png</td>\n",
       "      <td>No.</td>\n",
       "      <td>O</td>\n",
       "    </tr>\n",
       "    <tr>\n",
       "      <th>6</th>\n",
       "      <td>boarding_pass-1.png</td>\n",
       "      <td>Class</td>\n",
       "      <td>O</td>\n",
       "    </tr>\n",
       "    <tr>\n",
       "      <th>7</th>\n",
       "      <td>boarding_pass-1.png</td>\n",
       "      <td>Passenger</td>\n",
       "      <td>O</td>\n",
       "    </tr>\n",
       "    <tr>\n",
       "      <th>8</th>\n",
       "      <td>boarding_pass-1.png</td>\n",
       "      <td>Name</td>\n",
       "      <td>O</td>\n",
       "    </tr>\n",
       "    <tr>\n",
       "      <th>9</th>\n",
       "      <td>boarding_pass-1.png</td>\n",
       "      <td>_</td>\n",
       "      <td>O</td>\n",
       "    </tr>\n",
       "  </tbody>\n",
       "</table>\n",
       "</div>"
      ],
      "text/plain": [
       "                    id           text        tag\n",
       "0  boarding_pass-1.png  ETK-305A6746F  B-TNUMBER\n",
       "1  boarding_pass-1.png      Passenger          O\n",
       "2  boarding_pass-1.png           Name          O\n",
       "3  boarding_pass-1.png        Carrier          O\n",
       "4  boarding_pass-1.png         Flight          O\n",
       "5  boarding_pass-1.png            No.          O\n",
       "6  boarding_pass-1.png          Class          O\n",
       "7  boarding_pass-1.png      Passenger          O\n",
       "8  boarding_pass-1.png           Name          O\n",
       "9  boarding_pass-1.png              _          O"
      ]
     },
     "execution_count": 25,
     "metadata": {},
     "output_type": "execute_result"
    }
   ],
   "source": [
    "# convert the data into a DataFrame\n",
    "data = list(map(lambda x:x.split('\\t'),text.split('\\n')))\n",
    "df = pd.DataFrame(data[1:],columns=data[0])\n",
    "df.head(10)"
   ]
  },
  {
   "cell_type": "code",
   "execution_count": 26,
   "id": "e127c7a2-847a-41ab-bbf1-ef3e753130e7",
   "metadata": {},
   "outputs": [
    {
     "data": {
      "text/plain": [
       "(1945, 3)"
      ]
     },
     "execution_count": 26,
     "metadata": {},
     "output_type": "execute_result"
    }
   ],
   "source": [
    "df.shape"
   ]
  },
  {
   "cell_type": "code",
   "execution_count": 27,
   "id": "85afbc88-5075-40f0-85ad-8640e0745134",
   "metadata": {},
   "outputs": [],
   "source": [
    "# Funtion for text cleaning\n",
    "def text_cleaning(txt):\n",
    "    whitespace = string.whitespace\n",
    "    punctuation = \"!#$%&\\'()*+:;<=>?[\\\\]^`{|}~\"\n",
    "    tableWhitespace = str.maketrans('','',whitespace)\n",
    "    tablePunctuation = str.maketrans('','',punctuation)\n",
    "    text = str(txt)\n",
    "    text = text.lower()\n",
    "    text_whitout_whitespace = text.translate(tableWhitespace)\n",
    "    text_whitout_punctuation = str(text_whitout_whitespace.translate(tablePunctuation))\n",
    "    return text_whitout_punctuation"
   ]
  },
  {
   "cell_type": "code",
   "execution_count": 28,
   "id": "a89ad536-1dfa-411a-89ba-f9532d1faceb",
   "metadata": {},
   "outputs": [
    {
     "data": {
      "text/html": [
       "<div>\n",
       "<style scoped>\n",
       "    .dataframe tbody tr th:only-of-type {\n",
       "        vertical-align: middle;\n",
       "    }\n",
       "\n",
       "    .dataframe tbody tr th {\n",
       "        vertical-align: top;\n",
       "    }\n",
       "\n",
       "    .dataframe thead th {\n",
       "        text-align: right;\n",
       "    }\n",
       "</style>\n",
       "<table border=\"1\" class=\"dataframe\">\n",
       "  <thead>\n",
       "    <tr style=\"text-align: right;\">\n",
       "      <th></th>\n",
       "      <th>id</th>\n",
       "      <th>text</th>\n",
       "      <th>tag</th>\n",
       "    </tr>\n",
       "  </thead>\n",
       "  <tbody>\n",
       "    <tr>\n",
       "      <th>0</th>\n",
       "      <td>boarding_pass-1.png</td>\n",
       "      <td>etk-305a6746f</td>\n",
       "      <td>B-TNUMBER</td>\n",
       "    </tr>\n",
       "    <tr>\n",
       "      <th>1</th>\n",
       "      <td>boarding_pass-1.png</td>\n",
       "      <td>passenger</td>\n",
       "      <td>O</td>\n",
       "    </tr>\n",
       "    <tr>\n",
       "      <th>2</th>\n",
       "      <td>boarding_pass-1.png</td>\n",
       "      <td>name</td>\n",
       "      <td>O</td>\n",
       "    </tr>\n",
       "    <tr>\n",
       "      <th>3</th>\n",
       "      <td>boarding_pass-1.png</td>\n",
       "      <td>carrier</td>\n",
       "      <td>O</td>\n",
       "    </tr>\n",
       "    <tr>\n",
       "      <th>4</th>\n",
       "      <td>boarding_pass-1.png</td>\n",
       "      <td>flight</td>\n",
       "      <td>O</td>\n",
       "    </tr>\n",
       "    <tr>\n",
       "      <th>5</th>\n",
       "      <td>boarding_pass-1.png</td>\n",
       "      <td>no.</td>\n",
       "      <td>O</td>\n",
       "    </tr>\n",
       "    <tr>\n",
       "      <th>6</th>\n",
       "      <td>boarding_pass-1.png</td>\n",
       "      <td>class</td>\n",
       "      <td>O</td>\n",
       "    </tr>\n",
       "    <tr>\n",
       "      <th>7</th>\n",
       "      <td>boarding_pass-1.png</td>\n",
       "      <td>passenger</td>\n",
       "      <td>O</td>\n",
       "    </tr>\n",
       "    <tr>\n",
       "      <th>8</th>\n",
       "      <td>boarding_pass-1.png</td>\n",
       "      <td>name</td>\n",
       "      <td>O</td>\n",
       "    </tr>\n",
       "    <tr>\n",
       "      <th>9</th>\n",
       "      <td>boarding_pass-1.png</td>\n",
       "      <td>_</td>\n",
       "      <td>O</td>\n",
       "    </tr>\n",
       "  </tbody>\n",
       "</table>\n",
       "</div>"
      ],
      "text/plain": [
       "                    id           text        tag\n",
       "0  boarding_pass-1.png  etk-305a6746f  B-TNUMBER\n",
       "1  boarding_pass-1.png      passenger          O\n",
       "2  boarding_pass-1.png           name          O\n",
       "3  boarding_pass-1.png        carrier          O\n",
       "4  boarding_pass-1.png         flight          O\n",
       "5  boarding_pass-1.png            no.          O\n",
       "6  boarding_pass-1.png          class          O\n",
       "7  boarding_pass-1.png      passenger          O\n",
       "8  boarding_pass-1.png           name          O\n",
       "9  boarding_pass-1.png              _          O"
      ]
     },
     "execution_count": 28,
     "metadata": {},
     "output_type": "execute_result"
    }
   ],
   "source": [
    "# Apply the text cleaning\n",
    "df['text'] = df['text'].apply(text_cleaning)\n",
    "dataClean = df.query(\"text != '' \")\n",
    "dataClean = dataClean.dropna()\n",
    "dataClean.head(10)"
   ]
  },
  {
   "cell_type": "markdown",
   "id": "c49414ae-362d-408d-808e-da0bc8041594",
   "metadata": {},
   "source": [
    "### Convert the data into spacy format"
   ]
  },
  {
   "cell_type": "code",
   "execution_count": 29,
   "id": "6c7e5625-ee12-4c26-a261-8c050264ca2d",
   "metadata": {},
   "outputs": [
    {
     "data": {
      "text/plain": [
       "dict_keys(['boarding_pass-1.png', 'boarding_pass-10.png', 'boarding_pass-11.png', 'boarding_pass-12.png', 'boarding_pass-13.png', 'boarding_pass-14.png', 'boarding_pass-15.png', 'boarding_pass-16.png', 'boarding_pass-17.png', 'boarding_pass-18.png', 'boarding_pass-19.png', 'boarding_pass-2.png', 'boarding_pass-20.png', 'boarding_pass-21.png', 'boarding_pass-22.png', 'boarding_pass-23.png', 'boarding_pass-24.png', 'boarding_pass-25.png', 'boarding_pass-26.png', 'boarding_pass-27.png', 'boarding_pass-28.png', 'boarding_pass-29.png', 'boarding_pass-3.png', 'boarding_pass-30.png', 'boarding_pass-4.png', 'boarding_pass-5.png', 'boarding_pass-6.png', 'boarding_pass-7.png', 'boarding_pass-8.png', 'boarding_pass-9.png'])"
      ]
     },
     "execution_count": 29,
     "metadata": {},
     "output_type": "execute_result"
    }
   ],
   "source": [
    "group = dataClean.groupby(by='id')\n",
    "all_boarding_pass = group.groups.keys()\n",
    "all_boarding_pass"
   ]
  },
  {
   "cell_type": "code",
   "execution_count": 30,
   "id": "462e5792-899b-4972-aa7d-de0c04c05b18",
   "metadata": {},
   "outputs": [],
   "source": [
    "from spacy.util import get_words_and_spaces"
   ]
  },
  {
   "cell_type": "code",
   "execution_count": 31,
   "id": "f37f9d15-28f2-4a27-8d79-f70a9ea47192",
   "metadata": {},
   "outputs": [],
   "source": [
    "AllBoardingPassData = []\n",
    "for boarding_pass in all_boarding_pass:\n",
    "    BoardingPassData = []\n",
    "    grouparray = group.get_group(boarding_pass)[['text','tag']].values\n",
    "    content = ''\n",
    "    annotations = {'entities':[]}\n",
    "    start = 0\n",
    "    end = 0\n",
    "    for text, label in grouparray:\n",
    "        text = str(text)\n",
    "        stringLength = len(text) + 1\n",
    "\n",
    "        start = end\n",
    "        end = start + stringLength\n",
    "\n",
    "        if label != 'O':\n",
    "            annot = (start,end-1,label)\n",
    "            annotations['entities'].append(annot)\n",
    "\n",
    "        content = content + text + ' '\n",
    "        \n",
    "        \n",
    "    BoardingPassData = (content,annotations)\n",
    "    AllBoardingPassData.append(BoardingPassData)"
   ]
  },
  {
   "cell_type": "markdown",
   "id": "3417b589-6af3-4b6e-b9b2-a69a4f19598d",
   "metadata": {},
   "source": [
    "### Split the Data into Training and Testing Set"
   ]
  },
  {
   "cell_type": "code",
   "execution_count": 32,
   "id": "ed418d92-cf9c-4b5c-bc37-ff66614cb87a",
   "metadata": {},
   "outputs": [
    {
     "data": {
      "text/plain": [
       "30"
      ]
     },
     "execution_count": 32,
     "metadata": {},
     "output_type": "execute_result"
    }
   ],
   "source": [
    "len(AllBoardingPassData)"
   ]
  },
  {
   "cell_type": "code",
   "execution_count": 33,
   "id": "e50d5b9e-b768-4a06-9cc3-ff5fd31bbb52",
   "metadata": {},
   "outputs": [],
   "source": [
    "random.shuffle(AllBoardingPassData)\n",
    "TrainData = AllBoardingPassData[:25]\n",
    "TestData = AllBoardingPassData[25:]"
   ]
  },
  {
   "cell_type": "code",
   "execution_count": 34,
   "id": "80286acb-e30c-4b66-9e33-55aaed0c97e8",
   "metadata": {},
   "outputs": [],
   "source": [
    "pickle.dump(TrainData,open('../data/pickle/TrainData.pickle',mode='wb'))\n",
    "pickle.dump(TestData,open('../data/pickle/TestData.pickle',mode='wb'))"
   ]
  },
  {
   "cell_type": "code",
   "execution_count": null,
   "id": "cbe97e0c-7266-4fd5-b871-2e2c508537df",
   "metadata": {},
   "outputs": [],
   "source": []
  }
 ],
 "metadata": {
  "kernelspec": {
   "display_name": "Python 3 (ipykernel)",
   "language": "python",
   "name": "python3"
  },
  "language_info": {
   "codemirror_mode": {
    "name": "ipython",
    "version": 3
   },
   "file_extension": ".py",
   "mimetype": "text/x-python",
   "name": "python",
   "nbconvert_exporter": "python",
   "pygments_lexer": "ipython3",
   "version": "3.11.2"
  }
 },
 "nbformat": 4,
 "nbformat_minor": 5
}
